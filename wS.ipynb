{
 "cells": [
  {
   "cell_type": "code",
   "execution_count": 1,
   "metadata": {},
   "outputs": [
    {
     "name": "stdout",
     "output_type": "stream",
     "text": [
      "[]\n"
     ]
    }
   ],
   "source": [
    "import requests\n",
    "from selenium import webdriver\n",
    "from selenium.webdriver.common.by import By\n",
    "\n",
    "\n",
    "driver = webdriver.Chrome()\n",
    "driver.implicitly_wait(10) # seconds\n",
    "\n",
    "url = \"https://www.woolworths.com.au/shop/browse/drinks/cordials-juices-iced-teas/iced-teas\"\n",
    "\n",
    "driver.get(url)\n",
    "\n",
    "elements = driver.find_elements(By.XPATH, \"./html/body/wow-root/wow-app-layout/div/div/main/wow-browse-container/shared-layout-wrapper-tile/div/shared-grid/div/div[3]/shared-product-tile/shared-product-tile-v2/section/div[3]/div[1]/shared-product-tile-price/div/div[1]\")\n",
    "print (elements)\n",
    "for elt in elements:\n",
    "    print(elt.text)\n",
    "\n",
    "driver.quit()"
   ]
  }
 ],
 "metadata": {
  "kernelspec": {
   "display_name": "Python 3",
   "language": "python",
   "name": "python3"
  },
  "language_info": {
   "codemirror_mode": {
    "name": "ipython",
    "version": 3
   },
   "file_extension": ".py",
   "mimetype": "text/x-python",
   "name": "python",
   "nbconvert_exporter": "python",
   "pygments_lexer": "ipython3",
   "version": "3.10.4"
  },
  "orig_nbformat": 4
 },
 "nbformat": 4,
 "nbformat_minor": 2
}
